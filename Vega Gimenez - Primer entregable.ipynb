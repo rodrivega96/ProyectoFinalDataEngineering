{
 "cells": [
  {
   "cell_type": "markdown",
   "id": "0c22a610",
   "metadata": {},
   "source": [
    "# Proyecto Final del curso Data Engineering de Coderhouse\n",
    "## Consumidor de API de Spotify\n",
    "\n",
    "<p align=\"center\">\n",
    "  <img src=\"https://www.telia.se/.imaging/default/dam/telia-se/privat/Spotify-logo-Icons/Spotify_Icon_Green_NY_336x336/jcr:content.png\" alt=\"Spotify Logo\"/>\n",
    "</p>\n",
    "\n",
    "Mi nombre es Rodrigo Vega Gimenez. En la primera entrega estoy dejando esquematizado el proceso para consumir la API de Spotify, habiendo creado de 0 una app desde la misma aplicacion. La misma resume datos obtenidos de canciones usando una accion de get con una libreria llamada Spotipy.\n",
    "Me guie por tutoriales enumerados a continuacion:\n",
    "\n",
    "[How to retrieve data from Spotify](https://medium.com/@rafaelnduarte/how-to-retrieve-data-from-spotify-110c859ab304)\n",
    "\n",
    "[Getting started - WebAPI Spotify](https://developer.spotify.com/documentation/web-api/tutorials/getting-started)\n",
    "\n",
    "[Exploring the Spotify API in Python](https://stmorse.github.io/journal/spotify-api.html)"
   ]
  },
  {
   "cell_type": "code",
   "execution_count": 40,
   "id": "234d1d39",
   "metadata": {},
   "outputs": [
    {
     "name": "stdout",
     "output_type": "stream",
     "text": [
      "Requirement already satisfied: spotipy in c:\\users\\rodri\\anaconda3\\lib\\site-packages (2.23.0)\n",
      "Requirement already satisfied: redis>=3.5.3 in c:\\users\\rodri\\anaconda3\\lib\\site-packages (from spotipy) (5.0.1)\n",
      "Requirement already satisfied: six>=1.15.0 in c:\\users\\rodri\\anaconda3\\lib\\site-packages (from spotipy) (1.15.0)\n",
      "Requirement already satisfied: requests>=2.25.0 in c:\\users\\rodri\\anaconda3\\lib\\site-packages (from spotipy) (2.25.1)\n",
      "Requirement already satisfied: urllib3>=1.26.0 in c:\\users\\rodri\\anaconda3\\lib\\site-packages (from spotipy) (1.26.4)\n",
      "Requirement already satisfied: async-timeout>=4.0.2 in c:\\users\\rodri\\anaconda3\\lib\\site-packages (from redis>=3.5.3->spotipy) (4.0.3)\n",
      "Requirement already satisfied: idna<3,>=2.5 in c:\\users\\rodri\\anaconda3\\lib\\site-packages (from requests>=2.25.0->spotipy) (2.10)\n",
      "Requirement already satisfied: chardet<5,>=3.0.2 in c:\\users\\rodri\\anaconda3\\lib\\site-packages (from requests>=2.25.0->spotipy) (4.0.0)\n",
      "Requirement already satisfied: certifi>=2017.4.17 in c:\\users\\rodri\\anaconda3\\lib\\site-packages (from requests>=2.25.0->spotipy) (2020.12.5)\n",
      "Requirement already satisfied: wheel in c:\\users\\rodri\\anaconda3\\lib\\site-packages (0.36.2)\n",
      "Requirement already satisfied: pandas in c:\\users\\rodri\\anaconda3\\lib\\site-packages (1.2.4)\n",
      "Requirement already satisfied: pytz>=2017.3 in c:\\users\\rodri\\anaconda3\\lib\\site-packages (from pandas) (2021.1)\n",
      "Requirement already satisfied: numpy>=1.16.5 in c:\\users\\rodri\\anaconda3\\lib\\site-packages (from pandas) (1.19.5)\n",
      "Requirement already satisfied: python-dateutil>=2.7.3 in c:\\users\\rodri\\anaconda3\\lib\\site-packages (from pandas) (2.8.1)\n",
      "Requirement already satisfied: six>=1.5 in c:\\users\\rodri\\anaconda3\\lib\\site-packages (from python-dateutil>=2.7.3->pandas) (1.15.0)\n",
      "Requirement already satisfied: psycopg2 in c:\\users\\rodri\\anaconda3\\lib\\site-packages (2.9.9)\n"
     ]
    }
   ],
   "source": [
    "# Primero instalamos las librerias necesarias.\n",
    "!pip install spotipy\n",
    "!pip install wheel\n",
    "!pip install pandas\n",
    "!pip install psycopg2"
   ]
  },
  {
   "cell_type": "code",
   "execution_count": 41,
   "id": "efe1affa",
   "metadata": {},
   "outputs": [
    {
     "name": "stdout",
     "output_type": "stream",
     "text": [
      "3e2c784859ce4b97a9e449a44f619755\n"
     ]
    }
   ],
   "source": [
    "# Despues obtenemos el client_id y el client_secret, almacenados en mi PC.\n",
    "with open(\"C:/Users/rodri/Documents/keys/spotify_client_id.txt\", 'r') as fid:\n",
    "    client_id = fid.read()\n",
    "print(client_id)\n",
    "\n",
    "with open(\"C:/Users/rodri/Documents/keys/spotify_client_secret.txt\", 'r') as fs:\n",
    "    client_secret = fs.read()"
   ]
  },
  {
   "cell_type": "code",
   "execution_count": 42,
   "id": "2031b944",
   "metadata": {},
   "outputs": [
    {
     "name": "stdout",
     "output_type": "stream",
     "text": [
      "Connected to Redshift succesfully\n"
     ]
    }
   ],
   "source": [
    "# Para realizar la conexion con Redshift es necesario obtener todos los parametros de acceso.\n",
    "# La contraseña tambien es accesible mediante un archivo local en mi PC.\n",
    "import psycopg2 as redshift_client\n",
    "url = \"data-engineer-cluster.cyhh5bfevlmn.us-east-1.redshift.amazonaws.com\"\n",
    "data_base = \"data-engineer-database\"\n",
    "user = \"rvega389_coderhouse\"\n",
    "with open(\"C:/Users/rodri/Documents/keys/redshift_password.txt\",'r') as frp:\n",
    "    redshift_pwd = frp.read()\n",
    "try:\n",
    "    connection = redshift_client.connect(\n",
    "        host = url,\n",
    "        dbname = data_base,\n",
    "        user = user,\n",
    "        password = redshift_pwd,\n",
    "        port = '5439'\n",
    "    )\n",
    "    print(\"Connected to Redshift succesfully\")\n",
    "    \n",
    "except Exception as e:\n",
    "    print(\"It is not possible to connect to Redshift\")\n",
    "    print(e)"
   ]
  },
  {
   "cell_type": "code",
   "execution_count": 43,
   "id": "0ea0842f",
   "metadata": {},
   "outputs": [],
   "source": [
    "# Seguimos con el log de las credenciales en Spotify.\n",
    "import spotipy\n",
    "from spotipy.oauth2 import SpotifyClientCredentials\n",
    "client_credentials_manager = SpotifyClientCredentials(client_id, client_secret)\n",
    "spotify_client = spotipy.Spotify(client_credentials_manager=client_credentials_manager)"
   ]
  },
  {
   "cell_type": "code",
   "execution_count": null,
   "id": "63d8b999",
   "metadata": {},
   "outputs": [],
   "source": [
    "# Creamos listas vacias para guardar los resultados.\n",
    "# NOTA: Spotify limito los offset de 10k a 2k, por lo que decidi crear un loop cada 2k registros aumentando el offset de 50 en 50.\n",
    "artist_names = []\n",
    "artist_ids = []\n",
    "track_names = []\n",
    "track_ids = []\n",
    "album_names = []\n",
    "popularity = []\n",
    "track_genres = []\n",
    "track_years = []\n",
    "\n",
    "for i in range(0,2000,50):\n",
    "    track_results = spotify_client.search(q='year:2023', type='track', limit=50)\n",
    "    for i, t in enumerate(track_results['tracks']['items']):\n",
    "        artist_ids.append(t['artists'][0]['id'])\n",
    "        artist_names.append(t['artists'][0]['name'])\n",
    "        # Sacamos las comillas del titulo de la cancion.\n",
    "        track_names.append(t['name'].replace(\"'\", \"\"))\n",
    "        track_ids.append(t['id'])\n",
    "        # Sacamos las comillas tambien del titulo del album.\n",
    "        album_names.append(t['album']['name'].replace(\"'\", \"\"))\n",
    "        popularity.append(t['popularity'])\n",
    "        track_genre = spotify_client.artist(artist_ids[i])['genres']\n",
    "        # Separamos los generos por coma.\n",
    "        track_genre = ', '.join(track_genre)\n",
    "        track_genres.append(track_genre)\n",
    "        track_years.append(t['album']['release_date'])\n",
    "\n",
    "# Obtenemos el tamaño de uno, y chequeamos que sean 2000.\n",
    "print('Numero de elementos en la lista de ids de canciones:', len(track_ids))"
   ]
  },
  {
   "cell_type": "code",
   "execution_count": null,
   "id": "e68d844a",
   "metadata": {},
   "outputs": [],
   "source": [
    "import pandas as pd\n",
    "\n",
    "# Generamos el dataframe con las listas.\n",
    "df_tracks = pd.DataFrame({'ID Cancion': track_ids, 'Cancion': track_names, 'Artista': artist_names, 'ID Artista': artist_ids, 'Album': album_names, 'Popularidad': popularity, 'Genero': track_genres, 'Año': track_years})\n",
    "# Obtenemos las dimensiones del dataframe.\n",
    "print(f'Antes de borrar duplicados: {df_tracks.shape}')\n",
    "\n",
    "# A partir de aqui, son acciones paleativas para mejorar el resultado mostrado.\n",
    "# En el caso de que haya canciones duplicadas, borramos las mismas.\n",
    "# Primero las agrupamos por artista y cancion.\n",
    "grouped = df_tracks.groupby(['Artista','Cancion'], as_index = True).size()\n",
    "grouped[grouped > 1].count()\n",
    "# Posteriormente, se borran los duplicados.\n",
    "df_tracks.drop_duplicates(subset = ['Artista','Cancion'], inplace = True)\n",
    "\n",
    "# Chequeamos el nuevo tamaño ahora.\n",
    "print(f'Despues de borrar duplicados: {df_tracks.shape}')"
   ]
  },
  {
   "cell_type": "code",
   "execution_count": null,
   "id": "d07f0e14",
   "metadata": {},
   "outputs": [],
   "source": [
    "# Otro aporte que encontre, de Tomigelo, sugiere que hay que implementar un check para validar que un track_id venga vacio, y tambien eliminarlo.\n",
    "rows = []\n",
    "batchsize = 100\n",
    "no_track_id_counter = 0\n",
    "\n",
    "for i in range(0,len(df_tracks['ID Cancion']),batchsize):\n",
    "    batch = df_tracks['ID Cancion'][i:i+batchsize]\n",
    "    feature_results = spotify_client.audio_features(batch)\n",
    "    for i, t in enumerate(feature_results):\n",
    "        if t == None:\n",
    "            no_track_id_counter = no_track_id_counter + 1\n",
    "        else:\n",
    "            rows.append(t)\n",
    "            \n",
    "print('Numero de canciones sin soporte:', no_track_id_counter)\n",
    "# En este caso, menos mal que no hay ninguna."
   ]
  },
  {
   "cell_type": "code",
   "execution_count": null,
   "id": "e01907b3",
   "metadata": {},
   "outputs": [],
   "source": [
    "# Finalmente, un par de validaciones mas.\n",
    "# Si en el campo genero viene vacio, completar con Desconocido.\n",
    "df_tracks['Genero'].fillna('Desconocido', inplace = True)\n",
    "df_tracks.loc[df_tracks['Genero'] == '', 'Genero'] = 'Desconocido'\n",
    "# Validar que la fecha venga en formato de fecha. \n",
    "df_tracks['Año'] = pd.to_datetime(df_tracks['Año'], format='%Y-%m-%d')\n",
    "df_tracks.head()"
   ]
  },
  {
   "cell_type": "code",
   "execution_count": null,
   "id": "ea0586b7",
   "metadata": {},
   "outputs": [],
   "source": [
    "# Ahora vamos con todas las acciones sobre Redshift.\n",
    "# Es necesario crear la tabla en el caso de que la misma no exista.\n",
    "with connection.cursor() as cur:\n",
    "    cur.execute(\"\"\"\n",
    "        CREATE TABLE IF NOT EXISTS rvega389_coderhouse.canciones\n",
    "        (\n",
    "\t    id VARCHAR(50) primary key\n",
    "        ,cancion VARCHAR(255)\n",
    "\t    ,artista VARCHAR(255)   \n",
    "\t    ,artista_id VARCHAR(50)  \n",
    "\t    ,genero VARCHAR(300)   \n",
    "\t    ,album VARCHAR(100)   \n",
    "\t    ,popularidad INTEGER \n",
    "\t    ,fecha_lanzamiento date   \n",
    "        )\n",
    "    \"\"\")\n",
    "    connection.commit()"
   ]
  },
  {
   "cell_type": "code",
   "execution_count": null,
   "id": "65107734",
   "metadata": {},
   "outputs": [],
   "source": [
    "# En primera instancia, borramos todos los elementos de la tabla para evitar duplicados e inconsistencias.\n",
    "with connection.cursor() as cur:\n",
    "  cur.execute(\"TRUNCATE TABLE canciones\")\n",
    "  count = cur.rowcount\n",
    "    \n",
    "# Si consultamos la tabla, la misma deberia estar vacia.\n",
    "cur = connection.cursor()\n",
    "cur.execute(\"SELECT * FROM canciones\")\n",
    "results = cur.fetchall()\n",
    "results"
   ]
  },
  {
   "cell_type": "code",
   "execution_count": null,
   "id": "0801d681",
   "metadata": {},
   "outputs": [],
   "source": [
    "# Finalmente, insertamos el dataframe generado dentro de la base de datos.\n",
    "from psycopg2.extras import execute_values as ejecutar\n",
    "with connection.cursor() as cur:\n",
    "    ejecutar(\n",
    "        cur,\n",
    "        '''\n",
    "        INSERT INTO canciones (Id, Cancion, Artista, Artista_id, Album, Popularidad, Genero, Fecha_lanzamiento)\n",
    "        VALUES %s\n",
    "        ''',\n",
    "        [tuple(row) for row in df_tracks.values],\n",
    "        page_size=len(df_tracks)\n",
    "    )\n",
    "    connection.commit()"
   ]
  },
  {
   "cell_type": "code",
   "execution_count": null,
   "id": "3bac9f9c",
   "metadata": {},
   "outputs": [],
   "source": [
    "# Si consultamos la tabla, la misma deberia tener los elementos recien almacenados.\n",
    "cur = connection.cursor()\n",
    "cur.execute(\"SELECT * FROM canciones\")\n",
    "results = cur.fetchall()\n",
    "results"
   ]
  },
  {
   "cell_type": "code",
   "execution_count": null,
   "id": "bb850cf7",
   "metadata": {},
   "outputs": [],
   "source": [
    "# Y para cerrar, closeamos todas las conexiones.\n",
    "cur.close()\n",
    "connection.close()"
   ]
  },
  {
   "cell_type": "code",
   "execution_count": null,
   "id": "9deeea97",
   "metadata": {},
   "outputs": [],
   "source": []
  }
 ],
 "metadata": {
  "kernelspec": {
   "display_name": "Python 3",
   "language": "python",
   "name": "python3"
  },
  "language_info": {
   "codemirror_mode": {
    "name": "ipython",
    "version": 3
   },
   "file_extension": ".py",
   "mimetype": "text/x-python",
   "name": "python",
   "nbconvert_exporter": "python",
   "pygments_lexer": "ipython3",
   "version": "3.8.8"
  }
 },
 "nbformat": 4,
 "nbformat_minor": 5
}
